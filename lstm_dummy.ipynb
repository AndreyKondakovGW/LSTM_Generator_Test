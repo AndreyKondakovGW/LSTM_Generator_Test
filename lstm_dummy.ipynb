{
 "cells": [
  {
   "cell_type": "code",
   "execution_count": 1,
   "metadata": {},
   "outputs": [
    {
     "name": "stderr",
     "output_type": "stream",
     "text": [
      "e:\\Programming\\Tools\\Python\\lib\\site-packages\\tqdm\\auto.py:22: TqdmWarning: IProgress not found. Please update jupyter and ipywidgets. See https://ipywidgets.readthedocs.io/en/stable/user_install.html\n",
      "  from .autonotebook import tqdm as notebook_tqdm\n"
     ]
    }
   ],
   "source": [
    "import json\n",
    "import torch\n",
    "import torch.nn as nn"
   ]
  },
  {
   "cell_type": "code",
   "execution_count": 2,
   "metadata": {},
   "outputs": [],
   "source": [
    "from src.loader import MyLoader\n",
    "from src.models import TextRNN\n",
    "from src.predict import predict\n",
    "from src.sequence_encoder import Sequence_count_encoder\n",
    "from src.train_loop import training_loop"
   ]
  },
  {
   "cell_type": "code",
   "execution_count": 3,
   "metadata": {},
   "outputs": [],
   "source": [
    "TRAIN_TEXT_FILE_PATH = 'datasets/classic_poems.json'\n",
    "SEQ_LEN = 256\n",
    "BATCH_SIZE = 16\n",
    "N_EPOCHS = 500\n",
    "device = torch.device('cuda') if torch.cuda.is_available() else torch.device('cpu')"
   ]
  },
  {
   "cell_type": "markdown",
   "metadata": {},
   "source": [
    "Загружаем текстовые данные"
   ]
  },
  {
   "cell_type": "code",
   "execution_count": 4,
   "metadata": {},
   "outputs": [],
   "source": [
    "encoder = Sequence_count_encoder()\n",
    "encoder.load_from_json(TRAIN_TEXT_FILE_PATH)\n",
    "\n",
    "with open(TRAIN_TEXT_FILE_PATH, encoding=\"utf-8\") as f:\n",
    "    data = json.load(f)\n",
    "lines = []\n",
    "for d in data:\n",
    "    lines.append(d[\"content\"])\n",
    "text_sample = ' '.join(lines)\n",
    "\n",
    "sequence = encoder.text_to_seq(text_sample)\n",
    "\n",
    "loader = MyLoader(sequence, SEQ_LEN, BATCH_SIZE)"
   ]
  },
  {
   "cell_type": "markdown",
   "metadata": {},
   "source": [
    "Иницализируем модель"
   ]
  },
  {
   "cell_type": "code",
   "execution_count": 5,
   "metadata": {},
   "outputs": [],
   "source": [
    "model = TextRNN(input_size=len(encoder.idx_to_char), hidden_size=128, embedding_size=128, n_layers=2)\n",
    "model.to(device)\n",
    "\n",
    "criterion = nn.CrossEntropyLoss()\n",
    "optimizer = torch.optim.Adam(model.parameters(), lr=1e-2, amsgrad=True)\n",
    "scheduler = torch.optim.lr_scheduler.ReduceLROnPlateau(\n",
    "    optimizer, \n",
    "    patience=5, \n",
    "    verbose=True, \n",
    "    factor=0.5\n",
    ")"
   ]
  },
  {
   "cell_type": "code",
   "execution_count": 6,
   "metadata": {},
   "outputs": [
    {
     "name": "stdout",
     "output_type": "stream",
     "text": [
      "Loss: 3.0726580381393434\n",
      "Loss: 2.5152838468551635\n",
      "Loss: 2.4220312309265135\n",
      "Loss: 2.3664708280563356\n",
      "Loss: 2.327056384086609\n",
      "Loss: 2.297659754753113\n",
      "Loss: 2.2622882175445556\n",
      "Loss: 2.248606171607971\n",
      "Loss: 2.2237263107299805\n",
      "Loss: 2.2068537664413452\n"
     ]
    }
   ],
   "source": [
    "training_loop(model, loader, N_EPOCHS, optimizer, scheduler, criterion, device)"
   ]
  },
  {
   "cell_type": "code",
   "execution_count": 9,
   "metadata": {},
   "outputs": [
    {
     "name": "stdout",
     "output_type": "stream",
     "text": [
      "Оно в москвет позновенных смотри благодить юные утока выпите с берень подвостым челачала подолоньчее,\n",
      "Сколова\n",
      "Проколоселей в дом родную расстекласти забант —\n",
      "Ни скара радости прикратится страют —\n",
      "под коншим в стр\n"
     ]
    }
   ],
   "source": [
    "model.eval()\n",
    "predicted_text = predict(model, encoder.char_to_idx, encoder.idx_to_char, device=device, start_text='Оно в москве', temp=0.7)\n",
    "print(predicted_text)"
   ]
  },
  {
   "cell_type": "markdown",
   "metadata": {},
   "source": [
    "Сохраняем полученную модель"
   ]
  },
  {
   "cell_type": "code",
   "execution_count": 10,
   "metadata": {},
   "outputs": [],
   "source": [
    "torch.save(model, 'models/lstm_poets_model0.pt')"
   ]
  }
 ],
 "metadata": {
  "kernelspec": {
   "display_name": "Python 3.8.8 64-bit",
   "language": "python",
   "name": "python3"
  },
  "language_info": {
   "codemirror_mode": {
    "name": "ipython",
    "version": 3
   },
   "file_extension": ".py",
   "mimetype": "text/x-python",
   "name": "python",
   "nbconvert_exporter": "python",
   "pygments_lexer": "ipython3",
   "version": "3.8.8"
  },
  "orig_nbformat": 4,
  "vscode": {
   "interpreter": {
    "hash": "e8044c3f5657b643ab2271d51d4396caee82397d7a2adb3b37200bff9359a43e"
   }
  }
 },
 "nbformat": 4,
 "nbformat_minor": 2
}
